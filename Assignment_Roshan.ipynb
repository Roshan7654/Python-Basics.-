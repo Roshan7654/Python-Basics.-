{
  "nbformat": 4,
  "nbformat_minor": 0,
  "metadata": {
    "colab": {
      "provenance": []
    },
    "kernelspec": {
      "name": "python3",
      "display_name": "Python 3"
    },
    "language_info": {
      "name": "python"
    }
  },
  "cells": [
    {
      "cell_type": "code",
      "source": [],
      "metadata": {
        "id": "DFF3_HurWs-N"
      },
      "execution_count": null,
      "outputs": []
    },
    {
      "cell_type": "markdown",
      "source": [
        "Q1. What is python, and why is it popular?\n",
        "\n",
        "--> python is a programming language used to give command to computer. It is a popular language because it is very use to learn and understand, Python feels like reading english."
      ],
      "metadata": {
        "id": "nWUAasEucwQ7"
      }
    },
    {
      "cell_type": "markdown",
      "source": [
        "Q2. What is an interpreter in Python ?\n",
        "\n",
        "--> An interpreter in python is a program that executes code line by line, translating it into computer's language for the computer to process. e.g. print(\"you are checking my assignment\")"
      ],
      "metadata": {
        "id": "MVX75NcTd4QI"
      }
    },
    {
      "cell_type": "markdown",
      "source": [],
      "metadata": {
        "id": "DpyMyuJeHVdK"
      }
    },
    {
      "cell_type": "markdown",
      "source": [
        "Q3. What are pre-defined keywords in python?\n",
        "\n",
        "--> predefined keywords are some reserved words in python and is part of python sythax. They have special meanining in them. They cannot be used as indetifier(variable,name,etc)"
      ],
      "metadata": {
        "id": "1X9xHyV6e_Wq"
      }
    },
    {
      "cell_type": "markdown",
      "source": [
        "Q4. Can keywords be used as variable names?\n",
        "\n",
        "--> No Keywrods cannot be used as variable name because they are already pre-defined for some specific purpose."
      ],
      "metadata": {
        "id": "gPi6Ri0zzDtA"
      }
    },
    {
      "cell_type": "markdown",
      "source": [
        "Q5. What is mutability in python\n",
        "\n",
        "--> Mutability in Python refers to whether an object can be modified after it is created."
      ],
      "metadata": {
        "id": "ood-LLcxzr7e"
      }
    },
    {
      "cell_type": "markdown",
      "source": [
        "Q6. Why are lists mutable,but tuples are immutable?\n",
        "\n",
        "--> Lists are designed to be dynamic, where items can be added, removed, or modified.\n",
        "\n",
        "Tuples are designed to be static, they are stroed as fixed block of memory."
      ],
      "metadata": {
        "id": "S-AsWrGcz-xJ"
      }
    },
    {
      "cell_type": "markdown",
      "source": [
        "Q7. What is the difference between \"==\" and \"is\" operators in python?\n",
        "\n",
        "--> \"==\" is used for normal calculation in python where as \"=\" used to assign values to variable."
      ],
      "metadata": {
        "id": "YN5-ljfs1AUt"
      }
    },
    {
      "cell_type": "markdown",
      "source": [
        "Q8. What are logical operators in python?\n",
        "\n",
        "--> Logical operators in Python are used to perform logical operations on conditional statements. They are typically used to combine multiple conditions and return a Boolean value: True or False."
      ],
      "metadata": {
        "id": "-FFsqPq_7TN-"
      }
    },
    {
      "cell_type": "markdown",
      "source": [
        "Q9. what is type casting in python?\n",
        "\n",
        "--> Type Casting in Python refers to the process of converting one data type into another. there are two types of types casting:\n",
        "  1. Implicit type casting\n",
        "  2. Explicit types casting"
      ],
      "metadata": {
        "id": "AG8mSvP37jdr"
      }
    },
    {
      "cell_type": "markdown",
      "source": [
        "Q10. What is the difference between implicit and explicit type casting?\n",
        "\n",
        "-->  Implicit type casting is type of type casting where no user intervention is required. basically Automatic. e.g.\n",
        "\n",
        "                                         a = 2\n",
        "                                        b = 1.5\n",
        "                                        c = a + b\n",
        "                                       print(c)\n",
        "                                       print(type(c))\n",
        "\n",
        "Explicit type casting is where user intervene to change the data type.\n",
        "\n",
        "                                       int()\n",
        "                                       str()\n",
        "                                       float()\n",
        "                            "
      ],
      "metadata": {
        "id": "GVEh4A6x9UdU"
      }
    },
    {
      "cell_type": "markdown",
      "source": [],
      "metadata": {
        "id": "SV-jJcz5egX6"
      }
    },
    {
      "cell_type": "markdown",
      "source": [
        "Q11. What is the purpose of conditional statements in python?\n",
        "\n",
        "--> The purpose of conditional statements are to make decision based on certain conditions. Condtitional statement enable python toi executes specific block of code."
      ],
      "metadata": {
        "id": "zzf4iPNlAS_2"
      }
    },
    {
      "cell_type": "markdown",
      "source": [
        "Q12. how does the elif statement work?\n",
        "\n",
        "--> In python if the first statement is true then it will be executed if not then pyhton interepereter will see that second statement is true or not if it is true then it will be executed. again if this statement gets false then python interpreter sees wheather the third statement if true or not if it is true then it will be executed."
      ],
      "metadata": {
        "id": "Nd9Mf9gxc5X8"
      }
    },
    {
      "cell_type": "markdown",
      "source": [
        "Q13. What us the difference between for and while loop?\n",
        "\n",
        "--> \"For Loop\" is used when the number of iterations is known or you need to iterate over a sequence. For loop terminates the loop when the sequence is exhaused.\n",
        "\n",
        " \"While Loop\" is used when the number of iterations is unknown and depends on a condition. It ends when the condition gets false.\n"
      ],
      "metadata": {
        "id": "A4vJ5r9MeNtz"
      }
    },
    {
      "cell_type": "markdown",
      "source": [
        "Q14. Describe a secnario where a while loop is more suitable than a for loop.\n",
        "\n",
        "--> Let us suppose you are writing a program where user is asked to enter a positive number. (The program should continue prompting the user for input until a valid positive number is entered.) Here, the number of iterations is not known a priori because it will depend on the user input. The best option here is a While loop."
      ],
      "metadata": {
        "id": "eHEFQ4e-mV4t"
      }
    },
    {
      "cell_type": "code",
      "execution_count": null,
      "metadata": {
        "id": "ShIVKKiCWl80"
      },
      "outputs": [],
      "source": []
    },
    {
      "cell_type": "markdown",
      "source": [
        "# PRACTICAL QUESTIONS"
      ],
      "metadata": {
        "id": "OfdZ-QDJnCnY"
      }
    },
    {
      "cell_type": "markdown",
      "source": [
        "Question number 6 and 7 are same"
      ],
      "metadata": {
        "id": "crVGnLqctD7D"
      }
    },
    {
      "cell_type": "code",
      "source": [],
      "metadata": {
        "id": "1c9JYu4-tGwz"
      },
      "execution_count": null,
      "outputs": []
    },
    {
      "cell_type": "code",
      "source": [
        "# 1 . Write a python program to print \"Hello, World!\"\n",
        "\n",
        "print(\"Hello World!\")"
      ],
      "metadata": {
        "id": "nRvOHyyynT4j"
      },
      "execution_count": null,
      "outputs": []
    },
    {
      "cell_type": "code",
      "source": [
        "# 2. Write a python program that dispplays your name and age.\n",
        "\n",
        "name = \"Roshan\"\n",
        "age = 14\n",
        "\n",
        "print(\"My age name is\" , name)\n",
        "print(\"My age is\", age)\n"
      ],
      "metadata": {
        "id": "6gfkH0cfpbJk"
      },
      "execution_count": null,
      "outputs": []
    },
    {
      "cell_type": "code",
      "source": [
        "# 3. Write code to print all the pre-defined keywords in python using the keyword library.\n",
        "\n",
        "\n",
        " help(\"Keywords\") #and the another way is below\n",
        "\n",
        "\n",
        " import keywords\n",
        " print(\"List all the predefined keywords:\")\n",
        " print(keywords.kwlist)"
      ],
      "metadata": {
        "id": "ea46tws-qKAf"
      },
      "execution_count": null,
      "outputs": []
    },
    {
      "cell_type": "code",
      "source": [
        "# 4. Write a program that checks if a given word is a python keyword\n",
        "\n",
        "import keyword\n",
        "if keyword.iskeyword(\" \"): #write your keyword in bracket on line 2\n",
        "    print(\"This is a predefined keyword in python\")\n",
        "else:\n",
        "    print(\"This is not a predefined keyword in python\")"
      ],
      "metadata": {
        "id": "vsbm5hj2315X"
      },
      "execution_count": null,
      "outputs": []
    },
    {
      "cell_type": "code",
      "source": [
        "# 5. Create a list and tuple in python, and demostrate how attempting to change an element works differently for each.\n",
        "\n",
        "-->\n",
        "#Lists are mutable: you can change the value after creation of something\n",
        "list = [1,2,3,4,5,\"Roshan\"]\n",
        "print(list)\n",
        "print(list[0])\n",
        "\n",
        "-->\n",
        "#Tuples are immutable in python\n",
        "tuple = (10, 20, 30, 40)\n",
        "print(\"Original Tuple:\", my_tuple)\n",
        "try:\n",
        "    my_tuple[1] = 99\n",
        "except TypeError as e:\n",
        "    print(\"Error:\", e)\n",
        "\n",
        "\n",
        "\n"
      ],
      "metadata": {
        "id": "rKv-JPZS4Slo"
      },
      "execution_count": null,
      "outputs": []
    },
    {
      "cell_type": "code",
      "source": [
        "# 6. Write a function to demostrate the behaviour of mutable and immutable arguments.\n",
        "\n"
      ],
      "metadata": {
        "id": "QUEBuOkyjakk"
      },
      "execution_count": null,
      "outputs": []
    },
    {
      "cell_type": "code",
      "source": [
        "# 7. Write a program to demostrate the use of logical operators.\n",
        "\n",
        "age = int(input(\"Enter your age: \"))\n",
        "has_id = input(\"Do you have an ID card? (yes/no): \")\n",
        "\n",
        "if age >= 18 and has_id == \"yes\":\n",
        "    print(\"You are eligible to vote!\")\n",
        "else:\n",
        "    print(\"You are not eligible to vote.\")\n",
        "\n",
        "if age < 18 or has_id == \"no\":\n",
        "    print(\"You either need to be older or have an ID to vote.\")\n",
        "else:\n",
        "    print(\"You meet at least one requirement.\")\n",
        "\n",
        "if not (age >= 18):\n",
        "    print(\"You are underaged.\")\n",
        "else:\n",
        "    print(\"You are an adult.\")"
      ],
      "metadata": {
        "id": "wzfo5UjYjzBr"
      },
      "execution_count": null,
      "outputs": []
    },
    {
      "cell_type": "code",
      "source": [
        "# 8. Write a program to convert user input from string to integer, float, and boolean types.\n",
        "\n",
        "user_input = input(\"Enter a value: \")\n",
        "\n",
        "\n",
        "print(\"\\n--- Converting to Integer ---\")\n",
        "if user_input.isdigit():\n",
        "    int_value = int(user_input)\n",
        "    print(f\"Integer value: {int_value}\")\n",
        "else:\n",
        "    print(\"Cannot convert to an integer. Please enter only numeric digits.\")\n",
        "\n",
        "\n",
        "print(\"\\n--- Converting to Float ---\")\n",
        "try:\n",
        "    float_value = float(user_input)\n",
        "    print(f\"Float value: {float_value}\")\n",
        "except ValueError:\n",
        "    print(\"Cannot convert to a float. Please enter a valid number.\")\n",
        "\n",
        "print(\"\\n--- Converting to Boolean ---\")\n",
        "bool_value = bool(user_input.strip())\n",
        "print(f\"Boolean value: {bool_value}\")\n"
      ],
      "metadata": {
        "id": "fSCxtBforUqQ"
      },
      "execution_count": null,
      "outputs": []
    },
    {
      "cell_type": "code",
      "source": [
        "# 9. Write code to demostrate type casting with list elements.\n",
        "\n",
        "\n",
        "original_list = [\"123\", \"45.67\", \"True\", \"False\", \"456\"]\n",
        "\n",
        "int_list = []\n",
        "float_list = []\n",
        "bool_list = []\n",
        "\n",
        "print(\"Original List:\", original_list)\n",
        "\n",
        "for item in original_list:\n",
        "\n",
        "    try:\n",
        "        int_value = int(item)\n",
        "        int_list.append(int_value)\n",
        "    except ValueError:\n",
        "        pass\n",
        "    try:\n",
        "        float_value = float(item)\n",
        "        float_list.append(float_value)\n",
        "    except ValueError:\n",
        "        pass\n",
        "\n",
        "    bool_value = bool(item.strip())\n",
        "    bool_list.append(bool_value)\n",
        "\n",
        "print(\"\\nAfter Type Casting:\")\n",
        "print(\"Integer List:\", int_list)\n",
        "print(\"Float List:\", float_list)\n",
        "print(\"Boolean List:\", bool_list)\n"
      ],
      "metadata": {
        "id": "DMC6whk6smKo"
      },
      "execution_count": null,
      "outputs": []
    },
    {
      "cell_type": "code",
      "source": [
        "# 10. Write a program that checks if a number is positive, negative, or zero.\n",
        "\n",
        "number = -1 + 1\n",
        "if number > 0:\n",
        "  print(\"This is a positive integers\")\n",
        "elif 0 > number:\n",
        "  print(\"This is a negative integers\")\n",
        "else:\n",
        "  print(\"Zero\")"
      ],
      "metadata": {
        "id": "KM1Y08nosz_1"
      },
      "execution_count": null,
      "outputs": []
    },
    {
      "cell_type": "code",
      "source": [
        "# 11. Write a for loop to print numbers from 1 to 10.\n",
        "\n",
        "for number in range(0,11):\n",
        "  print(number)"
      ],
      "metadata": {
        "id": "Le6MtMfwtj-X"
      },
      "execution_count": null,
      "outputs": []
    },
    {
      "cell_type": "code",
      "source": [
        "# 12. Write a python program to find the sum of all even numbers between 1 and 50\n",
        "\n",
        "even_sum = 0\n",
        "\n",
        "for number in range(1, 51):\n",
        "    if number % 2 == 0:\n",
        "        even_sum += number\n",
        "\n",
        "print(\"The sum of all even numbers between 1 and 50 is:\", even_sum)"
      ],
      "metadata": {
        "id": "VhYZHhEttsrY"
      },
      "execution_count": null,
      "outputs": []
    },
    {
      "cell_type": "code",
      "source": [
        "# 13. Write a program to reverse a string using a while loop.\n",
        "\n",
        "\n",
        "user_input = input(\"Enter a string: \")\n",
        "\n",
        "reversed_string = \"\"  # To store the reversed string\n",
        "index = len(user_input) - 1  # Start from the last character\n",
        "\n",
        "# While loop to reverse the string\n",
        "while index >= 0:\n",
        "    reversed_string += user_input[index]  # Add the current character to the reversed string\n",
        "    index -= 1  # Move to the previous character\n",
        "\n",
        "# Display the reversed string\n",
        "print(\"Reversed String:\", reversed_string)\n",
        "\n"
      ],
      "metadata": {
        "id": "ZKeKb9u_t2-O"
      },
      "execution_count": null,
      "outputs": []
    },
    {
      "cell_type": "code",
      "source": [
        "# 14. Write a python program to calculate the factorial of a number provided by the user using a while loop.\n",
        "\n",
        "# Program to calculate the factorial of a number using a while loop\n",
        "\n",
        "# Get input from the user\n",
        "number = int(input(\"Enter a number: \"))\n",
        "\n",
        "\n",
        "factorial = 1\n",
        "count = number\n",
        "\n",
        "# Check if the number is negative\n",
        "if number < 0:\n",
        "    print(\"Factorial is not defined for negative numbers.\")\n",
        "else:\n",
        "    # Calculate factorial using while loop\n",
        "    while count > 0:\n",
        "        factorial *= count  # Multiply factorial by the current count\n",
        "        count -= 1  # Decrease count by 1\n",
        "\n",
        "    # Output the result\n",
        "    print(f\"Factorial of {number} is: {factorial}\")\n"
      ],
      "metadata": {
        "id": "jskX81_kt-lt"
      },
      "execution_count": null,
      "outputs": []
    }
  ]
}